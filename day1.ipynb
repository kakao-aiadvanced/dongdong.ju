{
 "cells": [
  {
   "metadata": {
    "ExecuteTime": {
     "end_time": "2025-06-23T08:37:56.665568Z",
     "start_time": "2025-06-23T08:37:55.671109Z"
    }
   },
   "cell_type": "code",
   "source": "!pip install openai dotenv",
   "id": "f348e7dfd65b6a67",
   "outputs": [
    {
     "name": "stdout",
     "output_type": "stream",
     "text": [
      "Requirement already satisfied: openai in /opt/homebrew/anaconda3/envs/dongdong.ju/lib/python3.12/site-packages (1.90.0)\r\n",
      "Collecting dotenv\r\n",
      "  Downloading dotenv-0.9.9-py2.py3-none-any.whl.metadata (279 bytes)\r\n",
      "Requirement already satisfied: anyio<5,>=3.5.0 in /opt/homebrew/anaconda3/envs/dongdong.ju/lib/python3.12/site-packages (from openai) (4.9.0)\r\n",
      "Requirement already satisfied: distro<2,>=1.7.0 in /opt/homebrew/anaconda3/envs/dongdong.ju/lib/python3.12/site-packages (from openai) (1.9.0)\r\n",
      "Requirement already satisfied: httpx<1,>=0.23.0 in /opt/homebrew/anaconda3/envs/dongdong.ju/lib/python3.12/site-packages (from openai) (0.28.1)\r\n",
      "Requirement already satisfied: jiter<1,>=0.4.0 in /opt/homebrew/anaconda3/envs/dongdong.ju/lib/python3.12/site-packages (from openai) (0.10.0)\r\n",
      "Requirement already satisfied: pydantic<3,>=1.9.0 in /opt/homebrew/anaconda3/envs/dongdong.ju/lib/python3.12/site-packages (from openai) (2.11.7)\r\n",
      "Requirement already satisfied: sniffio in /opt/homebrew/anaconda3/envs/dongdong.ju/lib/python3.12/site-packages (from openai) (1.3.1)\r\n",
      "Requirement already satisfied: tqdm>4 in /opt/homebrew/anaconda3/envs/dongdong.ju/lib/python3.12/site-packages (from openai) (4.67.1)\r\n",
      "Requirement already satisfied: typing-extensions<5,>=4.11 in /opt/homebrew/anaconda3/envs/dongdong.ju/lib/python3.12/site-packages (from openai) (4.14.0)\r\n",
      "Requirement already satisfied: idna>=2.8 in /opt/homebrew/anaconda3/envs/dongdong.ju/lib/python3.12/site-packages (from anyio<5,>=3.5.0->openai) (3.10)\r\n",
      "Requirement already satisfied: certifi in /opt/homebrew/anaconda3/envs/dongdong.ju/lib/python3.12/site-packages (from httpx<1,>=0.23.0->openai) (2025.6.15)\r\n",
      "Requirement already satisfied: httpcore==1.* in /opt/homebrew/anaconda3/envs/dongdong.ju/lib/python3.12/site-packages (from httpx<1,>=0.23.0->openai) (1.0.9)\r\n",
      "Requirement already satisfied: h11>=0.16 in /opt/homebrew/anaconda3/envs/dongdong.ju/lib/python3.12/site-packages (from httpcore==1.*->httpx<1,>=0.23.0->openai) (0.16.0)\r\n",
      "Requirement already satisfied: annotated-types>=0.6.0 in /opt/homebrew/anaconda3/envs/dongdong.ju/lib/python3.12/site-packages (from pydantic<3,>=1.9.0->openai) (0.7.0)\r\n",
      "Requirement already satisfied: pydantic-core==2.33.2 in /opt/homebrew/anaconda3/envs/dongdong.ju/lib/python3.12/site-packages (from pydantic<3,>=1.9.0->openai) (2.33.2)\r\n",
      "Requirement already satisfied: typing-inspection>=0.4.0 in /opt/homebrew/anaconda3/envs/dongdong.ju/lib/python3.12/site-packages (from pydantic<3,>=1.9.0->openai) (0.4.1)\r\n",
      "Collecting python-dotenv (from dotenv)\r\n",
      "  Using cached python_dotenv-1.1.0-py3-none-any.whl.metadata (24 kB)\r\n",
      "Downloading dotenv-0.9.9-py2.py3-none-any.whl (1.9 kB)\r\n",
      "Using cached python_dotenv-1.1.0-py3-none-any.whl (20 kB)\r\n",
      "Installing collected packages: python-dotenv, dotenv\r\n",
      "\u001B[2K   \u001B[90m━━━━━━━━━━━━━━━━━━━━━━━━━━━━━━━━━━━━━━━━\u001B[0m \u001B[32m2/2\u001B[0m [dotenv]\r\n",
      "\u001B[1A\u001B[2KSuccessfully installed dotenv-0.9.9 python-dotenv-1.1.0\r\n"
     ]
    }
   ],
   "execution_count": 22
  },
  {
   "metadata": {
    "ExecuteTime": {
     "end_time": "2025-06-23T08:38:43.802554Z",
     "start_time": "2025-06-23T08:38:31.136930Z"
    }
   },
   "cell_type": "code",
   "source": [
    "from dotenv import load_dotenv\n",
    "import os\n",
    "from openai import OpenAI\n",
    "\n",
    "load_dotenv()\n",
    "api_key = os.getenv(\"OPENAI_API_KEY\")\n",
    "\n",
    "client = OpenAI()\n",
    "\n",
    "completion = client.chat.completions.create(\n",
    "    model=\"gpt-4o-mini\",\n",
    "    messages=[\n",
    "        {\"role\": \"system\", \"content\": \"You are a helpful assistant.\"},\n",
    "        {\n",
    "            \"role\": \"user\",\n",
    "            \"content\": \"What are the best places in Korea?.\"\n",
    "        }\n",
    "    ]\n",
    ")\n",
    "\n",
    "print(completion.choices[0].message)"
   ],
   "id": "9ad3bac87a41cbfe",
   "outputs": [
    {
     "name": "stdout",
     "output_type": "stream",
     "text": [
      "ChatCompletionMessage(content=\"Korea offers a rich tapestry of culture, history, and natural beauty. Here are some of the best places to visit in South Korea:\\n\\n### 1. **Seoul**\\n   - **Gyeongbokgung Palace**: A stunning royal palace with beautiful gardens and architecture.\\n   - **Bukchon Hanok Village**: A traditional village with Hanok (traditional Korean houses) offering a glimpse into Korea’s past.\\n   - **Myeongdong**: A bustling shopping district famous for its cosmetics shops, street food, and vibrant atmosphere.\\n   - **N Seoul Tower**: An iconic tower offering panoramic views of the city, especially beautiful at night.\\n\\n### 2. **Busan**\\n   - **Haeundae Beach**: One of Korea's most famous beaches, perfect for relaxation and water sports.\\n   - **Gamcheon Culture Village**: A colorful hillside community known for its artistic vibe and murals.\\n   - **Jagalchi Fish Market**: A bustling market where you can experience fresh seafood and local cuisine.\\n\\n### 3. **Gyeongju**\\n   - **Bulguksa Temple**: A UNESCO World Heritage site, this temple showcases beautiful architecture and historical significance.\\n   - **Seokguram Grotto**: A hermitage and another UNESCO World Heritage site with a stunning Buddha statue carved into a cave.\\n   - **Ancient Tombs of the Silla Dynasty**: Explore the rich history of one of Korea’s ancient kingdoms.\\n\\n### 4. **Jeju Island**\\n   - **Hallasan National Park**: Home to Mount Hallasan, the highest mountain in South Korea, with beautiful hiking trails and diverse flora and fauna.\\n   - **Seongsan Ilchulbong (Sunrise Peak)**: A spectacular volcanic crater and UNESCO World Heritage site, perfect for sunrise views.\\n   - **Jeongbang Waterfall**: One of the few waterfalls in Asia that falls directly into the ocean.\\n\\n### 5. **Incheon**\\n   - **Incheon Chinatown**: Offers a unique blend of Chinese and Korean cultures; it's a great place for food and shopping.\\n   - **Songdo International Business District**: A modern urban development with parks, canals, and impressive architecture.\\n   - **Incheon Bridge**: A stunning bridge connecting Incheon to the mainland, offering picturesque views.\\n\\n### 6. **Suwon**\\n   - **Hwaseong Fortress**: A UNESCO World Heritage site featuring impressive walls and gates, reflecting the military ingenuity of the Joseon Dynasty.\\n\\n### 7. **Pyeongchang**\\n   - **Alpensia Resort**: Known for its skiing and winter sports facilities; it hosted the 2018 Winter Olympics.\\n   - **Odaesan National Park**: Offers beautiful hiking trails and an opportunity to experience Korea’s natural beauty.\\n\\n### 8. **Sokcho and Seoraksan National Park**\\n   - **Seoraksan National Park**: Known for its stunning mountain scenery, hiking trails, and diverse wildlife.\\n   - **Sokcho Beach**: A lovely place to relax with beautiful ocean views.\\n\\n### 9. **Jeonju**\\n   - **Jeonju Hanok Village**: A historic area featuring traditional hanoks and local cuisine, known for bibimbap.\\n   - **Mungsan Scenic Area**: Beautiful natural scenery and great for experiencing local culture.\\n\\n### 10. **Andong**\\n   - **Hahoe Folk Village**: A UNESCO World Heritage site where you can explore traditional Korean culture and architecture.\\n   - **Andong Mask Dance Festival**: Experience traditional performing arts if you visit in October.\\n\\nEach of these locations offers a unique glimpse into Korea's rich heritage, culture, natural beauty, and modernity, making them worthwhile destinations to explore.\", refusal=None, role='assistant', annotations=[], audio=None, function_call=None, tool_calls=None)\n"
     ]
    }
   ],
   "execution_count": 26
  },
  {
   "metadata": {
    "ExecuteTime": {
     "end_time": "2025-06-23T08:39:28.086694Z",
     "start_time": "2025-06-23T08:39:13.759802Z"
    }
   },
   "cell_type": "code",
   "source": [
    "\n",
    "completion = client.chat.completions.create(\n",
    "    model=\"gpt-4o-mini\",\n",
    "    messages=[\n",
    "        {\"role\": \"system\", \"content\": \"You are a helpful assistant.\"},\n",
    "        {\n",
    "            \"role\": \"user\",\n",
    "            \"content\": \"What are the tourist attractions in Korea?\"\n",
    "        }\n",
    "    ]\n",
    ")\n",
    "\n",
    "print(completion.choices[0].message)"
   ],
   "id": "9472e59fdf687c38",
   "outputs": [
    {
     "name": "stdout",
     "output_type": "stream",
     "text": [
      "ChatCompletionMessage(content=\"South Korea is rich in cultural heritage, natural beauty, and modern attractions. Here are some of the top tourist attractions across the country:\\n\\n### Seoul\\n1. **Gyeongbokgung Palace** - The largest of the Five Grand Palaces, featuring beautiful architecture and traditional ceremonies.\\n2. **Bukchon Hanok Village** - A preserved area with traditional Korean houses, offering a glimpse into the country's past.\\n3. **N Seoul Tower** - A famous communication and observation tower providing stunning views of the city.\\n4. **Myeongdong** - A bustling shopping district known for cosmetics, fashion, and street food.\\n5. **Insadong** - A neighborhood known for its antique shops, art galleries, and tea houses.\\n\\n### Busan\\n1. **Haeundae Beach** - One of the most popular beaches in Korea, especially in summer.\\n2. **Gamcheon Culture Village** - A vibrant neighborhood filled with colorful houses, art installations, and cafes.\\n3. **Busan Tower** - Offers panoramic views of the city and the harbor.\\n4. **Jagalchi Fish Market** - The largest seafood market in Korea, known for its fresh seafood offerings.\\n\\n### Gyeongju\\n1. **Bulguksa Temple** - A UNESCO World Heritage site and a prime example of Korean Buddhist architecture.\\n2. **Seokguram Grotto** - Another UNESCO site, this grotto houses a stunning statue of Buddha.\\n3. **Gyeongju National Museum** - Showcases artifacts from the Silla Kingdom, including gold crowns and pottery.\\n\\n### Jeju Island\\n1. **Hallasan National Park** - Home to South Korea’s highest mountain and a biodiversity hotspot.\\n2. **Seongsan Ilchulbong (Sunrise Peak)** - A volcanic crater that offers spectacular sunrise views.\\n3. **Jeju Loveland** - An outdoor sculpture park focused on themes of love and sexuality.\\n\\n### Incheon\\n1. **Incheon Chinatown** - The largest Chinatown in South Korea with vibrant streets, shops, and restaurants.\\n2. **Songdo International Business District** - A modern urban area with parks, canals, and cutting-edge architecture.\\n\\n### Other Attractions\\n1. **Suwon Hwaseong Fortress** - A UNESCO World Heritage site famous for its impressive walls and gates.\\n2. **DMZ (Demilitarized Zone)** - A unique and historically significant area that separates North and South Korea, where guided tours are offered.\\n3. **Nami Island** - Known for its tree-lined paths and beautiful landscapes, particularly in autumn.\\n4. **Hwaseong Fortress** - A UNESCO World Heritage Site that offers a mix of history and scenic views.\\n\\n### Nature and Adventure\\n1. **Seoraksan National Park** - Famous for hiking trails, stunning mountain views, and diverse flora and fauna.\\n2. **Jirisan National Park** - The largest national park in South Korea, known for its hiking trails and rich biodiversity.\\n\\nThese attractions highlight the blend of traditional and modern aspects of South Korean culture, making the country an intriguing destination for tourists.\", refusal=None, role='assistant', annotations=[], audio=None, function_call=None, tool_calls=None)\n"
     ]
    }
   ],
   "execution_count": 27
  },
  {
   "metadata": {
    "ExecuteTime": {
     "end_time": "2025-06-23T08:42:17.675255Z",
     "start_time": "2025-06-23T08:42:16.797557Z"
    }
   },
   "cell_type": "code",
   "source": [
    "\n",
    "completion = client.chat.completions.create(\n",
    "    model=\"gpt-4o-mini\",\n",
    "    messages=[\n",
    "        {\"role\": \"system\", \"content\": \"\"\"\n",
    "You are a professional translator. Translate the following English sentences into natural Korean. Here are some examples:\n",
    "\n",
    "English: How are you?\n",
    "Korean: 어떻게 지내세요?\n",
    "\n",
    "English: What time is it now?\n",
    "Korean: 지금 몇 시예요?\n",
    "\n",
    "English: I would like a cup of coffee.\n",
    "Korean: 커피 한 잔 주세요.\n",
    "\n",
    "English: Where is the nearest subway station?\n",
    "Korean: 가장 가까운 지하철역이 어디예요?\n",
    "\n",
    "English: Thank you for your help.\n",
    "Korean: 도와주셔서 감사합니다.\n",
    "\n",
    "Now, translate the next sentence:\n",
    "\"\"\"        },\n",
    "        {\n",
    "            \"role\": \"user\",\n",
    "            \"content\": \"What are the best places to visit in Korea?\"\n",
    "        }\n",
    "    ]\n",
    ")\n",
    "\n",
    "print(completion.choices[0].message)"
   ],
   "id": "fa3c1153aad77d18",
   "outputs": [
    {
     "name": "stdout",
     "output_type": "stream",
     "text": [
      "ChatCompletionMessage(content='한국에서 방문하기 좋은 곳은 어디인가요?', refusal=None, role='assistant', annotations=[], audio=None, function_call=None, tool_calls=None)\n"
     ]
    }
   ],
   "execution_count": 29
  },
  {
   "metadata": {
    "ExecuteTime": {
     "end_time": "2025-06-23T08:43:22.118653Z",
     "start_time": "2025-06-23T08:43:21.497343Z"
    }
   },
   "cell_type": "code",
   "source": [
    "\n",
    "completion = client.chat.completions.create(\n",
    "    model=\"gpt-4o-mini\",\n",
    "    messages=[\n",
    "        {\"role\": \"system\", \"content\": \"\"\"\n",
    "You are a sentiment analysis assistant. Read the following movie review and determine if the sentiment is \"positive\" or \"negative\". Respond with only one word: Positive or Negative.\n",
    "\n",
    "Examples:\n",
    "\n",
    "Review: The movie was absolutely fantastic, with brilliant acting and a gripping story.\n",
    "Sentiment: Positive\n",
    "\n",
    "Review: I was really disappointed. The plot was boring and predictable.\n",
    "Sentiment: Negative\n",
    "\n",
    "Review: An amazing experience! The visuals and soundtrack were stunning.\n",
    "Sentiment: Positive\n",
    "\n",
    "Review: The film was a waste of time. I wouldn't recommend it to anyone.\n",
    "Sentiment: Negative\n",
    "\n",
    "Review: I loved every minute of it. The characters were so well developed.\n",
    "Sentiment: Positive\n",
    "\n",
    "Now, analyze the following review:\n",
    "\"\"\"        },\n",
    "        {\n",
    "            \"role\": \"user\",\n",
    "            \"content\": \"The storyline was dull and uninspiring.\"\n",
    "        }\n",
    "    ]\n",
    ")\n",
    "\n",
    "print(completion.choices[0].message)"
   ],
   "id": "b3c8036ce695ea2f",
   "outputs": [
    {
     "name": "stdout",
     "output_type": "stream",
     "text": [
      "ChatCompletionMessage(content='Negative', refusal=None, role='assistant', annotations=[], audio=None, function_call=None, tool_calls=None)\n"
     ]
    }
   ],
   "execution_count": 30
  },
  {
   "metadata": {},
   "cell_type": "code",
   "outputs": [],
   "execution_count": null,
   "source": "",
   "id": "29c6f677d7255dd9"
  }
 ],
 "metadata": {
  "kernelspec": {
   "display_name": "Python 3",
   "language": "python",
   "name": "python3"
  },
  "language_info": {
   "codemirror_mode": {
    "name": "ipython",
    "version": 2
   },
   "file_extension": ".py",
   "mimetype": "text/x-python",
   "name": "python",
   "nbconvert_exporter": "python",
   "pygments_lexer": "ipython2",
   "version": "2.7.6"
  }
 },
 "nbformat": 4,
 "nbformat_minor": 5
}
