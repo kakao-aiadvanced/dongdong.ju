{
 "cells": [
  {
   "metadata": {
    "ExecuteTime": {
     "end_time": "2025-06-23T09:29:01.100985Z",
     "start_time": "2025-06-23T09:28:41.451072Z"
    }
   },
   "cell_type": "code",
   "source": "!pip install llmlingua",
   "id": "1cece1492a2ae470",
   "outputs": [
    {
     "name": "stdout",
     "output_type": "stream",
     "text": [
      "Collecting llmlingua\r\n",
      "  Downloading llmlingua-0.2.2-py3-none-any.whl.metadata (17 kB)\r\n",
      "Collecting transformers>=4.26.0 (from llmlingua)\r\n",
      "  Using cached transformers-4.52.4-py3-none-any.whl.metadata (38 kB)\r\n",
      "Collecting accelerate (from llmlingua)\r\n",
      "  Downloading accelerate-1.8.1-py3-none-any.whl.metadata (19 kB)\r\n",
      "Collecting torch (from llmlingua)\r\n",
      "  Downloading torch-2.7.1-cp312-none-macosx_11_0_arm64.whl.metadata (29 kB)\r\n",
      "Collecting tiktoken (from llmlingua)\r\n",
      "  Downloading tiktoken-0.9.0-cp312-cp312-macosx_11_0_arm64.whl.metadata (6.7 kB)\r\n",
      "Collecting nltk (from llmlingua)\r\n",
      "  Downloading nltk-3.9.1-py3-none-any.whl.metadata (2.9 kB)\r\n",
      "Collecting numpy (from llmlingua)\r\n",
      "  Downloading numpy-2.3.1-cp312-cp312-macosx_14_0_arm64.whl.metadata (62 kB)\r\n",
      "Collecting filelock (from transformers>=4.26.0->llmlingua)\r\n",
      "  Using cached filelock-3.18.0-py3-none-any.whl.metadata (2.9 kB)\r\n",
      "Collecting huggingface-hub<1.0,>=0.30.0 (from transformers>=4.26.0->llmlingua)\r\n",
      "  Using cached huggingface_hub-0.33.0-py3-none-any.whl.metadata (14 kB)\r\n",
      "Requirement already satisfied: packaging>=20.0 in /opt/homebrew/anaconda3/envs/dongdong.ju/lib/python3.12/site-packages (from transformers>=4.26.0->llmlingua) (25.0)\r\n",
      "Requirement already satisfied: pyyaml>=5.1 in /opt/homebrew/anaconda3/envs/dongdong.ju/lib/python3.12/site-packages (from transformers>=4.26.0->llmlingua) (6.0.2)\r\n",
      "Collecting regex!=2019.12.17 (from transformers>=4.26.0->llmlingua)\r\n",
      "  Downloading regex-2024.11.6-cp312-cp312-macosx_11_0_arm64.whl.metadata (40 kB)\r\n",
      "Requirement already satisfied: requests in /opt/homebrew/anaconda3/envs/dongdong.ju/lib/python3.12/site-packages (from transformers>=4.26.0->llmlingua) (2.32.4)\r\n",
      "Collecting tokenizers<0.22,>=0.21 (from transformers>=4.26.0->llmlingua)\r\n",
      "  Using cached tokenizers-0.21.1-cp39-abi3-macosx_11_0_arm64.whl.metadata (6.8 kB)\r\n",
      "Collecting safetensors>=0.4.3 (from transformers>=4.26.0->llmlingua)\r\n",
      "  Using cached safetensors-0.5.3-cp38-abi3-macosx_11_0_arm64.whl.metadata (3.8 kB)\r\n",
      "Requirement already satisfied: tqdm>=4.27 in /opt/homebrew/anaconda3/envs/dongdong.ju/lib/python3.12/site-packages (from transformers>=4.26.0->llmlingua) (4.67.1)\r\n",
      "Collecting fsspec>=2023.5.0 (from huggingface-hub<1.0,>=0.30.0->transformers>=4.26.0->llmlingua)\r\n",
      "  Using cached fsspec-2025.5.1-py3-none-any.whl.metadata (11 kB)\r\n",
      "Requirement already satisfied: typing-extensions>=3.7.4.3 in /opt/homebrew/anaconda3/envs/dongdong.ju/lib/python3.12/site-packages (from huggingface-hub<1.0,>=0.30.0->transformers>=4.26.0->llmlingua) (4.14.0)\r\n",
      "Collecting hf-xet<2.0.0,>=1.1.2 (from huggingface-hub<1.0,>=0.30.0->transformers>=4.26.0->llmlingua)\r\n",
      "  Downloading hf_xet-1.1.5-cp37-abi3-macosx_11_0_arm64.whl.metadata (879 bytes)\r\n",
      "Requirement already satisfied: psutil in /opt/homebrew/anaconda3/envs/dongdong.ju/lib/python3.12/site-packages (from accelerate->llmlingua) (7.0.0)\r\n",
      "Requirement already satisfied: setuptools in /opt/homebrew/anaconda3/envs/dongdong.ju/lib/python3.12/site-packages (from torch->llmlingua) (78.1.1)\r\n",
      "Collecting sympy>=1.13.3 (from torch->llmlingua)\r\n",
      "  Downloading sympy-1.14.0-py3-none-any.whl.metadata (12 kB)\r\n",
      "Collecting networkx (from torch->llmlingua)\r\n",
      "  Downloading networkx-3.5-py3-none-any.whl.metadata (6.3 kB)\r\n",
      "Requirement already satisfied: jinja2 in /opt/homebrew/anaconda3/envs/dongdong.ju/lib/python3.12/site-packages (from torch->llmlingua) (3.1.6)\r\n",
      "Collecting mpmath<1.4,>=1.1.0 (from sympy>=1.13.3->torch->llmlingua)\r\n",
      "  Downloading mpmath-1.3.0-py3-none-any.whl.metadata (8.6 kB)\r\n",
      "Requirement already satisfied: MarkupSafe>=2.0 in /opt/homebrew/anaconda3/envs/dongdong.ju/lib/python3.12/site-packages (from jinja2->torch->llmlingua) (3.0.2)\r\n",
      "Collecting click (from nltk->llmlingua)\r\n",
      "  Using cached click-8.2.1-py3-none-any.whl.metadata (2.5 kB)\r\n",
      "Collecting joblib (from nltk->llmlingua)\r\n",
      "  Downloading joblib-1.5.1-py3-none-any.whl.metadata (5.6 kB)\r\n",
      "Requirement already satisfied: charset_normalizer<4,>=2 in /opt/homebrew/anaconda3/envs/dongdong.ju/lib/python3.12/site-packages (from requests->transformers>=4.26.0->llmlingua) (3.4.2)\r\n",
      "Requirement already satisfied: idna<4,>=2.5 in /opt/homebrew/anaconda3/envs/dongdong.ju/lib/python3.12/site-packages (from requests->transformers>=4.26.0->llmlingua) (3.10)\r\n",
      "Requirement already satisfied: urllib3<3,>=1.21.1 in /opt/homebrew/anaconda3/envs/dongdong.ju/lib/python3.12/site-packages (from requests->transformers>=4.26.0->llmlingua) (2.5.0)\r\n",
      "Requirement already satisfied: certifi>=2017.4.17 in /opt/homebrew/anaconda3/envs/dongdong.ju/lib/python3.12/site-packages (from requests->transformers>=4.26.0->llmlingua) (2025.6.15)\r\n",
      "Downloading llmlingua-0.2.2-py3-none-any.whl (30 kB)\r\n",
      "Using cached transformers-4.52.4-py3-none-any.whl (10.5 MB)\r\n",
      "Using cached huggingface_hub-0.33.0-py3-none-any.whl (514 kB)\r\n",
      "Downloading hf_xet-1.1.5-cp37-abi3-macosx_11_0_arm64.whl (2.6 MB)\r\n",
      "\u001B[2K   \u001B[90m━━━━━━━━━━━━━━━━━━━━━━━━━━━━━━━━━━━━━━━━\u001B[0m \u001B[32m2.6/2.6 MB\u001B[0m \u001B[31m14.8 MB/s\u001B[0m eta \u001B[36m0:00:00\u001B[0m\r\n",
      "\u001B[?25hUsing cached tokenizers-0.21.1-cp39-abi3-macosx_11_0_arm64.whl (2.7 MB)\r\n",
      "Using cached fsspec-2025.5.1-py3-none-any.whl (199 kB)\r\n",
      "Downloading numpy-2.3.1-cp312-cp312-macosx_14_0_arm64.whl (5.1 MB)\r\n",
      "\u001B[2K   \u001B[90m━━━━━━━━━━━━━━━━━━━━━━━━━━━━━━━━━━━━━━━━\u001B[0m \u001B[32m5.1/5.1 MB\u001B[0m \u001B[31m28.0 MB/s\u001B[0m eta \u001B[36m0:00:00\u001B[0m\r\n",
      "\u001B[?25hDownloading regex-2024.11.6-cp312-cp312-macosx_11_0_arm64.whl (284 kB)\r\n",
      "Using cached safetensors-0.5.3-cp38-abi3-macosx_11_0_arm64.whl (418 kB)\r\n",
      "Downloading accelerate-1.8.1-py3-none-any.whl (365 kB)\r\n",
      "Downloading torch-2.7.1-cp312-none-macosx_11_0_arm64.whl (68.6 MB)\r\n",
      "\u001B[2K   \u001B[90m━━━━━━━━━━━━━━━━━━━━━━━━━━━━━━━━━━━━━━━━\u001B[0m \u001B[32m68.6/68.6 MB\u001B[0m \u001B[31m16.7 MB/s\u001B[0m eta \u001B[36m0:00:00\u001B[0m00:01\u001B[0m00:01\u001B[0m\r\n",
      "\u001B[?25hDownloading sympy-1.14.0-py3-none-any.whl (6.3 MB)\r\n",
      "\u001B[2K   \u001B[90m━━━━━━━━━━━━━━━━━━━━━━━━━━━━━━━━━━━━━━━━\u001B[0m \u001B[32m6.3/6.3 MB\u001B[0m \u001B[31m20.4 MB/s\u001B[0m eta \u001B[36m0:00:00\u001B[0ma \u001B[36m0:00:01\u001B[0m\r\n",
      "\u001B[?25hDownloading mpmath-1.3.0-py3-none-any.whl (536 kB)\r\n",
      "\u001B[2K   \u001B[90m━━━━━━━━━━━━━━━━━━━━━━━━━━━━━━━━━━━━━━━━\u001B[0m \u001B[32m536.2/536.2 kB\u001B[0m \u001B[31m13.4 MB/s\u001B[0m eta \u001B[36m0:00:00\u001B[0m\r\n",
      "\u001B[?25hUsing cached filelock-3.18.0-py3-none-any.whl (16 kB)\r\n",
      "Downloading networkx-3.5-py3-none-any.whl (2.0 MB)\r\n",
      "\u001B[2K   \u001B[90m━━━━━━━━━━━━━━━━━━━━━━━━━━━━━━━━━━━━━━━━\u001B[0m \u001B[32m2.0/2.0 MB\u001B[0m \u001B[31m13.8 MB/s\u001B[0m eta \u001B[36m0:00:00\u001B[0m\r\n",
      "\u001B[?25hDownloading nltk-3.9.1-py3-none-any.whl (1.5 MB)\r\n",
      "\u001B[2K   \u001B[90m━━━━━━━━━━━━━━━━━━━━━━━━━━━━━━━━━━━━━━━━\u001B[0m \u001B[32m1.5/1.5 MB\u001B[0m \u001B[31m16.7 MB/s\u001B[0m eta \u001B[36m0:00:00\u001B[0m\r\n",
      "\u001B[?25hUsing cached click-8.2.1-py3-none-any.whl (102 kB)\r\n",
      "Downloading joblib-1.5.1-py3-none-any.whl (307 kB)\r\n",
      "Downloading tiktoken-0.9.0-cp312-cp312-macosx_11_0_arm64.whl (1.0 MB)\r\n",
      "\u001B[2K   \u001B[90m━━━━━━━━━━━━━━━━━━━━━━━━━━━━━━━━━━━━━━━━\u001B[0m \u001B[32m1.0/1.0 MB\u001B[0m \u001B[31m15.9 MB/s\u001B[0m eta \u001B[36m0:00:00\u001B[0m\r\n",
      "\u001B[?25hInstalling collected packages: mpmath, sympy, safetensors, regex, numpy, networkx, joblib, hf-xet, fsspec, filelock, click, torch, tiktoken, nltk, huggingface-hub, tokenizers, accelerate, transformers, llmlingua\r\n",
      "\u001B[2K   \u001B[90m━━━━━━━━━━━━━━━━━━━━━━━━━━━━━━━━━━━━━━━━\u001B[0m \u001B[32m19/19\u001B[0m [llmlingua]19\u001B[0m [transformers]ub]\r\n",
      "\u001B[1A\u001B[2KSuccessfully installed accelerate-1.8.1 click-8.2.1 filelock-3.18.0 fsspec-2025.5.1 hf-xet-1.1.5 huggingface-hub-0.33.0 joblib-1.5.1 llmlingua-0.2.2 mpmath-1.3.0 networkx-3.5 nltk-3.9.1 numpy-2.3.1 regex-2024.11.6 safetensors-0.5.3 sympy-1.14.0 tiktoken-0.9.0 tokenizers-0.21.1 torch-2.7.1 transformers-4.52.4\r\n"
     ]
    }
   ],
   "execution_count": 1
  },
  {
   "metadata": {
    "ExecuteTime": {
     "end_time": "2025-06-23T09:31:31.879232Z",
     "start_time": "2025-06-23T09:31:30.572987Z"
    }
   },
   "cell_type": "code",
   "source": "!pip install torch --upgrade --index-url https://download.pytorch.org/whl/cu121",
   "id": "5df11a4dce34cf35",
   "outputs": [
    {
     "name": "stdout",
     "output_type": "stream",
     "text": [
      "Looking in indexes: https://download.pytorch.org/whl/cu121\r\n",
      "Requirement already satisfied: torch in /opt/homebrew/anaconda3/envs/dongdong.ju/lib/python3.12/site-packages (2.7.1)\r\n",
      "Requirement already satisfied: filelock in /opt/homebrew/anaconda3/envs/dongdong.ju/lib/python3.12/site-packages (from torch) (3.18.0)\r\n",
      "Requirement already satisfied: typing-extensions>=4.10.0 in /opt/homebrew/anaconda3/envs/dongdong.ju/lib/python3.12/site-packages (from torch) (4.14.0)\r\n",
      "Requirement already satisfied: setuptools in /opt/homebrew/anaconda3/envs/dongdong.ju/lib/python3.12/site-packages (from torch) (78.1.1)\r\n",
      "Requirement already satisfied: sympy>=1.13.3 in /opt/homebrew/anaconda3/envs/dongdong.ju/lib/python3.12/site-packages (from torch) (1.14.0)\r\n",
      "Requirement already satisfied: networkx in /opt/homebrew/anaconda3/envs/dongdong.ju/lib/python3.12/site-packages (from torch) (3.5)\r\n",
      "Requirement already satisfied: jinja2 in /opt/homebrew/anaconda3/envs/dongdong.ju/lib/python3.12/site-packages (from torch) (3.1.6)\r\n",
      "Requirement already satisfied: fsspec in /opt/homebrew/anaconda3/envs/dongdong.ju/lib/python3.12/site-packages (from torch) (2025.5.1)\r\n",
      "Requirement already satisfied: mpmath<1.4,>=1.1.0 in /opt/homebrew/anaconda3/envs/dongdong.ju/lib/python3.12/site-packages (from sympy>=1.13.3->torch) (1.3.0)\r\n",
      "Requirement already satisfied: MarkupSafe>=2.0 in /opt/homebrew/anaconda3/envs/dongdong.ju/lib/python3.12/site-packages (from jinja2->torch) (3.0.2)\r\n"
     ]
    }
   ],
   "execution_count": 7
  },
  {
   "metadata": {
    "ExecuteTime": {
     "end_time": "2025-06-23T09:33:22.218804Z",
     "start_time": "2025-06-23T09:33:21.513304Z"
    }
   },
   "cell_type": "code",
   "source": [
    "from llmlingua import PromptCompressor\n",
    "\n",
    "# llm_lingua = PromptCompressor(\n",
    "#     model_name=\"microsoft/llmlingua-2-xlm-roberta-large-meetingbank\",\n",
    "#     use_llmlingua2=True, # Whether to use llmlingua-2\n",
    "# )\n",
    "\n",
    "## Use LLMLingua-2-small model\n",
    "llm_lingua = PromptCompressor(\n",
    "    model_name=\"microsoft/llmlingua-2-bert-base-multilingual-cased-meetingbank\",\n",
    "    device_map=\"cpu\",\n",
    "    use_llmlingua2=True, # Whether to use llmlingua-2\n",
    ")\n"
   ],
   "id": "9978d8f55da87f71",
   "outputs": [],
   "execution_count": 14
  },
  {
   "metadata": {
    "ExecuteTime": {
     "end_time": "2025-06-23T09:33:26.735596Z",
     "start_time": "2025-06-23T09:33:26.580607Z"
    }
   },
   "cell_type": "code",
   "source": [
    "prompt = \"\"\"Madam Court, could you please read docket 1239? Certainly. Docket 1239. The Committee on Government Operations, to which was referred on December 1st, 2021, docket number 1239 message an order authorizing the creation of a sheltered market program in conformity with the requirements of general laws. Chapter 30 B Section 18. This authorization applies to contracts for goods, professional services and support services. This authorization is for no more than six contracts, which must be awarded by June 30th, 2022. This sheltered market program shall be available for disadvantaged, minority and women only vendors, for whom there is a demonstrated substantial disparity in the city's 2020 disparities. Study submits a report recommending the order ought to pass. Thank you so much, Madam Clerk. The Chair recognizes Councilor Edwards, chair of the committee. Councilor Edwards. You have the floor. This is this is actually a matter, I believe, sponsored by the. Mayor in Cannes. In conformance with the recommendations from the disparity study and making sure that we opt in to this this pilot program under mass general laws 30 Section 18. Again, it's really just following the recommendations of an already studied issue, which which demonstrates a disparity between minority contractors or women contractors receiving contracts in the city of Boston. So this would allow for us to shepherd and move these six contracts to those already designated groups who have a disadvantage. And I think it's. Really fulfilling a promise. Of making sure that we go through and make sure all aspects of the city government, including the financial benefits, are accessible to people in the city of Boston. I recommend that this pass and I hope that my colleagues will vote for it. Thank you. Thank you so much. Councilor Edward seeks acceptance of the committee report and passage of Docket 1239. Madam Court, could you please call the roll? Certainly. Docket 1239. Councilor Arroyo. Yes. Councilor Arroyo. Yes. Councilor Baker. Councilor Baker. Councilor. Councilor Barker. Council Braden. Councilor Braden. Councilor Campbell. Councilor Campbell. Yes. Councilor Edwards. Yes. Councilor Sabby. George. Councilor Sabby. George. He has Councilor Flaherty. Councilor Flaherty as Councilor Flynn. Councilor Flynn. Yes. Councilor Jane. Yes. Councilor Janey. As Councilor me here. Councilor me here as Councilor Murphy. Councilor Murphy. Yes. And Councilor O'Malley. Yes. Councilor O'Malley. Yes. Madam President, do I get number 1239 has received unanimous vote. Thank you so much. Dockett 1239 has passed and now we will move on to matters recently heard for possible action. Madam Clerk, if you could please read docket 0863. Certainly Docket 0863 order for hearing to discuss pest control and illegal dumping in the city of Boston.\"\"\"\n",
    "compressed_prompt = llm_lingua.compress_prompt(prompt, rate=0.33, force_tokens = ['\\n', '?'])"
   ],
   "id": "296dae14f265a92c",
   "outputs": [],
   "execution_count": 17
  },
  {
   "metadata": {
    "ExecuteTime": {
     "end_time": "2025-06-23T09:33:28.141320Z",
     "start_time": "2025-06-23T09:33:28.137676Z"
    }
   },
   "cell_type": "code",
   "source": [
    "print('original prompt length: ', len(prompt))\n",
    "print('compressed prompt length: ',len(compressed_prompt['compressed_prompt']))\n",
    "compressed_prompt['compressed_prompt']"
   ],
   "id": "c651ebdf6719679e",
   "outputs": [
    {
     "name": "stdout",
     "output_type": "stream",
     "text": [
      "original prompt length:  2822\n",
      "compressed prompt length:  1063\n"
     ]
    },
    {
     "data": {
      "text/plain": [
       "\"Court read docket 1239? Committee on Government Operations referred December 1st 2021 docket 1239 order authorizing creation sheltered market program general laws Chapter 30 B Section 18 authorization applies to contracts goods professional services support services no more than six contracts awarded by June 30th 2022 sheltered market program available for disadvantaged minority women vendors disparity 2020 disparities Study report order pass Chair recognizes Councilor Edwards sponsored by Mayor in Cannes recommendations disparity study pilot program general laws 30 Section 18 disparity between minority contractors women Boston six contracts to groups disadvantage. city government financial benefits accessible Boston recommend pass colleagues vote Councilor Edward seeks acceptance committee report passage Docket 1239. call roll? Docket 1239 Councilor Arroyo SabbyCouncilor Flynn Councilor Jane Murphy O ' Malley number 1239 unanimous vote Dockett 1239 passed move matters action read docket 0863 Docket 0863 discuss pest control illegal dumping Boston\""
      ]
     },
     "execution_count": 18,
     "metadata": {},
     "output_type": "execute_result"
    }
   ],
   "execution_count": 18
  },
  {
   "metadata": {
    "ExecuteTime": {
     "end_time": "2025-06-23T09:33:28.616258Z",
     "start_time": "2025-06-23T09:33:28.614854Z"
    }
   },
   "cell_type": "code",
   "source": "",
   "id": "ea1a6be1dbb45904",
   "outputs": [],
   "execution_count": null
  },
  {
   "metadata": {},
   "cell_type": "code",
   "outputs": [],
   "execution_count": null,
   "source": "",
   "id": "f8692eb48c2c3f90"
  }
 ],
 "metadata": {
  "kernelspec": {
   "display_name": "Python 3",
   "language": "python",
   "name": "python3"
  },
  "language_info": {
   "codemirror_mode": {
    "name": "ipython",
    "version": 2
   },
   "file_extension": ".py",
   "mimetype": "text/x-python",
   "name": "python",
   "nbconvert_exporter": "python",
   "pygments_lexer": "ipython2",
   "version": "2.7.6"
  }
 },
 "nbformat": 4,
 "nbformat_minor": 5
}
